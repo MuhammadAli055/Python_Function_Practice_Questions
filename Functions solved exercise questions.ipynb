{
 "cells": [
  {
   "cell_type": "markdown",
   "id": "9c59755e",
   "metadata": {},
   "source": [
    "# Question No 1\n",
    "\n",
    "# Simple Function:\n",
    "\n",
    "# Create a function named greet_with_time that takes a name as input and prints a greeting message along with the current time."
   ]
  },
  {
   "cell_type": "code",
   "execution_count": 14,
   "id": "03b617f0",
   "metadata": {},
   "outputs": [
    {
     "name": "stdout",
     "output_type": "stream",
     "text": [
      "Hellow ali\n",
      "we met at \n",
      "12:24:44\n"
     ]
    }
   ],
   "source": [
    "\n",
    "from datetime import datetime\n",
    "def greet_with_time(name):\n",
    "    t= datetime.now().strftime(\"%H:%M:%S\")\n",
    "    print(f\"Hellow {name}\\nwe met at \\n{t}\")\n",
    "greet_with_time(\"ali\")\n",
    "    "
   ]
  },
  {
   "cell_type": "markdown",
   "id": "6cb41512",
   "metadata": {},
   "source": [
    "# QUESTION NO 2\n",
    "\n",
    "# Function with Multiple Parameters:\n",
    "\n",
    "# Write a function called calculate_average that takes three numbers as input and returns their average."
   ]
  },
  {
   "cell_type": "code",
   "execution_count": 17,
   "id": "ad78b461",
   "metadata": {},
   "outputs": [
    {
     "name": "stdout",
     "output_type": "stream",
     "text": [
      "The average of numbers given = 5.0\n"
     ]
    }
   ],
   "source": [
    "def calculate_average(a,b,c):\n",
    "    sum = a+b+c\n",
    "    avg=sum/3\n",
    "    print(f\"The average of numbers given = {avg}\")\n",
    "calculate_average(4,6,5)"
   ]
  },
  {
   "cell_type": "markdown",
   "id": "bee3196c",
   "metadata": {},
   "source": [
    "# QUESTION NO 3\n",
    "\n",
    "# Default Argument:\n",
    "\n",
    "# Define a function calculate_discount that takes a price and a discount percentage as input. Set a default discount percentage of 10%."
   ]
  },
  {
   "cell_type": "code",
   "execution_count": 20,
   "id": "7306e87d",
   "metadata": {},
   "outputs": [
    {
     "name": "stdout",
     "output_type": "stream",
     "text": [
      "The discount on the price is = 50.0\n"
     ]
    }
   ],
   "source": [
    "def calculate_discount(price,discount=10):\n",
    "    dis=discount/100\n",
    "    fin=price*dis\n",
    "    print(f\"The discount on the price is = {fin}\")\n",
    "calculate_discount(500)"
   ]
  },
  {
   "cell_type": "markdown",
   "id": "331b47a9",
   "metadata": {},
   "source": [
    "# Question No 4\n",
    "\n",
    "# Keyword Arguments:\n",
    "\n",
    "# Create a function print_info that takes a name, age, and city as keyword arguments."
   ]
  },
  {
   "cell_type": "code",
   "execution_count": 28,
   "id": "4e9237ea",
   "metadata": {},
   "outputs": [
    {
     "name": "stdout",
     "output_type": "stream",
     "text": [
      "Your name is: ALi\n",
      "Your age is :19\n",
      "You live in city:Lahore\n"
     ]
    }
   ],
   "source": [
    "def print_info(name=None,age=None,city=None):\n",
    "        print(f\"Your name is: {name}\\nYour age is :{age}\\nYou live in city:{city}\")\n",
    "print_info(\"ALi\",19,\"Lahore\")"
   ]
  },
  {
   "cell_type": "markdown",
   "id": "8d2a200d-6fe4-4e41-9a95-df6d72391435",
   "metadata": {},
   "source": [
    "# QUESTION NO 5\n",
    "# Variable-Length Arguments:\r",
    "# \n",
    "Write a function find_max that can take any number of arguments and returns the maximum value."
   ]
  },
  {
   "cell_type": "code",
   "execution_count": 17,
   "id": "9543e9a7-0f38-4432-b935-ce2740ab6eea",
   "metadata": {},
   "outputs": [
    {
     "name": "stdout",
     "output_type": "stream",
     "text": [
      "The maximum number = 9838\n"
     ]
    }
   ],
   "source": [
    "def find_max(*args):\n",
    "    if not args:\n",
    "        print(\"At leaset on number is required\")\n",
    "    else:\n",
    "        print(f'The maximum number = {max(args)}')\n",
    "find_max(45,4,555,9838)"
   ]
  },
  {
   "cell_type": "markdown",
   "id": "ffeeabcc-936e-4d15-b2b0-56df7e7c5ad1",
   "metadata": {},
   "source": [
    "# QUESTION NO 6\n",
    "# Recursive Function:\n",
    "# Implement a recursive function to calculate the factorial of a number"
   ]
  },
  {
   "cell_type": "code",
   "execution_count": 37,
   "id": "a211b9b0-58b0-4091-a1ee-de101a0c2996",
   "metadata": {},
   "outputs": [
    {
     "data": {
      "text/plain": [
       "120"
      ]
     },
     "execution_count": 37,
     "metadata": {},
     "output_type": "execute_result"
    }
   ],
   "source": [
    "def factorial(n):\n",
    "    if n == 0 or n == 1:\n",
    "        return 1\n",
    "    else:\n",
    "        return n * factorial(n - 1)\n",
    "factorial(5)"
   ]
  },
  {
   "cell_type": "markdown",
   "id": "5a4b27ea-652a-4a92-bf0d-7e94b292baeb",
   "metadata": {},
   "source": [
    "# QUESTION NO 7\n",
    "# Function as an Argument:\n",
    "# Define a function apply_function that takes a function and a list of numbers as input. Apply the function to each number in the list and return a new list with the results."
   ]
  },
  {
   "cell_type": "code",
   "execution_count": 39,
   "id": "0a3c14c2-bb69-4764-ab54-3fe134defe7e",
   "metadata": {},
   "outputs": [
    {
     "name": "stdout",
     "output_type": "stream",
     "text": [
      "[1, 4, 9, 16, 25]\n"
     ]
    }
   ],
   "source": [
    "def apply_function(func, numbers):\n",
    "    return [func(num) for num in numbers]\n",
    "def square(x):\n",
    "    return x * x\n",
    "nums = [1, 2, 3, 4, 5]\n",
    "result = apply_function(square, nums)\n",
    "print(result)\n"
   ]
  },
  {
   "cell_type": "markdown",
   "id": "e6edae9d-68f1-4b9d-95c3-fb2f5ced69dd",
   "metadata": {},
   "source": [
    "# QUESTION NO 8\n",
    "# Lambda Functions:\n",
    "# Create a lambda function to square a number."
   ]
  },
  {
   "cell_type": "code",
   "execution_count": 41,
   "id": "be6c2a8f-6177-4ad5-8025-4241ec11aba3",
   "metadata": {},
   "outputs": [
    {
     "name": "stdout",
     "output_type": "stream",
     "text": [
      "25\n"
     ]
    }
   ],
   "source": [
    "square = lambda x: x * x\n",
    "result = square(5)\n",
    "print(result)\n"
   ]
  },
  {
   "cell_type": "markdown",
   "id": "99729e36-87b8-40b5-8346-6a2377f29f3e",
   "metadata": {},
   "source": [
    "# QUESTION NO 9\n",
    "# Higher-Order Functions:\n",
    "# Write a function apply_operation that takes a function and a list of numbers. Apply the function to each number and return a new list."
   ]
  },
  {
   "cell_type": "code",
   "execution_count": 43,
   "id": "488fe7a3-c173-49db-b31a-2be86297e9e5",
   "metadata": {},
   "outputs": [
    {
     "name": "stdout",
     "output_type": "stream",
     "text": [
      "[1, 4, 9, 16, 25]\n"
     ]
    }
   ],
   "source": [
    "def apply_operation(func, numbers):\n",
    "    return [func(num) for num in numbers]\n",
    "square = lambda x: x * x\n",
    "nums = [1, 2, 3, 4, 5]\n",
    "result = apply_operation(square, nums)\n",
    "print(result)\n"
   ]
  },
  {
   "cell_type": "markdown",
   "id": "4e6a7728-33e3-40c7-bfe8-7c4954acc675",
   "metadata": {},
   "source": [
    "# QUESTION NO 10\n",
    "# Function Decorators:\n",
    "# Implement a decorator to measure the execution time of a function."
   ]
  },
  {
   "cell_type": "code",
   "execution_count": 49,
   "id": "5279ad9a-73a3-46fd-bd52-c1e934d5b6a4",
   "metadata": {},
   "outputs": [
    {
     "name": "stdout",
     "output_type": "stream",
     "text": [
      "example_function: 0.102068s\n"
     ]
    },
    {
     "data": {
      "text/plain": [
       "499999500000"
      ]
     },
     "execution_count": 49,
     "metadata": {},
     "output_type": "execute_result"
    }
   ],
   "source": [
    "import time\n",
    "def measure_execution_time(func):\n",
    "    def wrapper(*args, **kwargs):\n",
    "        start = time.time()\n",
    "        result = func(*args, **kwargs)\n",
    "        print(f\"{func.__name__}: {time.time() - start:.6f}s\")\n",
    "        return result\n",
    "    return wrapper\n",
    "@measure_execution_time\n",
    "def example_function():\n",
    "    return sum(range(1, 1000000))\n",
    "example_function()\n",
    "\n"
   ]
  }
 ],
 "metadata": {
  "kernelspec": {
   "display_name": "Python 3 (ipykernel)",
   "language": "python",
   "name": "python3"
  },
  "language_info": {
   "codemirror_mode": {
    "name": "ipython",
    "version": 3
   },
   "file_extension": ".py",
   "mimetype": "text/x-python",
   "name": "python",
   "nbconvert_exporter": "python",
   "pygments_lexer": "ipython3",
   "version": "3.12.4"
  }
 },
 "nbformat": 4,
 "nbformat_minor": 5
}
